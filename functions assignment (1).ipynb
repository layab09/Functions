{
 "cells": [
  {
   "cell_type": "markdown",
   "id": "19648808-3565-49d7-96c5-6bb9bbd11277",
   "metadata": {},
   "source": [
    "1. What is the difference between a function and a method in Python?\n",
    "ans) Function: A function is a block of code that is designed to perform a specific task and can be called independently. It is defined using the def keyword and can be called by its name.\n",
    "Method: A method is a function that is associated with an object and is called on that object. Methods are functions that are defined inside a class, and they operate on the instance or class of the object they belong to. In Python, methods are implicitly passed the instance of the class (usually self in instance methods).\n",
    "\n",
    "2.  Explain the concept of function arguments and parameters in Python\n",
    "ans) Parameter: A parameter is a variable in the function definition. It is used to accept the input when the function is called. Example: def greet(name): Here, name is the parameter.\n",
    "Argument: An argument is the actual value or expression passed to the function when it is called. Example: greet(\"Alice\") here, \"Alice\" is the argument passed to the greet function.\n",
    "\n",
    "3.  What are the different ways to define and call a function in Python?\n",
    "ans) Defining a function:\n",
    "\n",
    "def my_function():\n",
    "    print(\"Hello World!\")\n",
    "Calling a function:\n",
    "\n",
    "my_function()\n",
    "Using arguments in functions:\n",
    "\n",
    "def add(a, b):\n",
    "    return a + b\n",
    "add(5, 3)\n",
    "Lambda functions (Anonymous functions):\n",
    "\n",
    "square = lambda x: x * x\n",
    "print(square(4))\n",
    "\n",
    "4. What is the purpose of the return statement in a Python function?\n",
    "ans) he return statement is used to send a result back from the function to the caller. When the return statement is executed, the function terminates, and the value specified after return is returned to the calling code. If there is no return statement, the function returns None by default.\n",
    "\n",
    "Example:\n",
    "\n",
    "def add(a, b):\n",
    "    return a + b\n",
    "\n",
    "result = add(2, 3)\n",
    "print(result)  # Output: 5\n",
    "\n",
    "5. What are iterators in Python and how do they differ from iterables?\n",
    "ans) Iterable: An iterable is an object capable of returning its members one at a time, permitting it to be iterated over in a loop (e.g., lists, tuples, strings). An iterable implements the __iter__() method or the __getitem__() method.\n",
    "Iterator: An iterator is an object that represents a stream of data. It must implement two methods: __iter__() and __next__(). The __next__() method returns the next item in the sequence and raises a StopIteration exception when no items are left.\n",
    "\n",
    "Example:\n",
    "my_list = [1, 2, 3]\n",
    "iterator = iter(my_list)  # Create an iterator\n",
    "print(next(iterator))  # Output: 1\n",
    "\n",
    "6. Explain the concept of generators in Python and how they are defined,.\n",
    "ans) A generator is a special type of iterator that is defined using a function and the yield keyword. It generates items lazily, meaning the items are produced one at a time and only when needed.\n",
    "A generator does not require all items to be stored in memory at once, making it more memory-efficient.\n",
    "Example:\n",
    "def count_up_to(n):\n",
    "    count = 1\n",
    "    while count <= n:\n",
    "        yield count\n",
    "        count += 1\n",
    "\n",
    "gen = count_up_to(5)\n",
    "for number in gen:\n",
    "    print(number)\n",
    "\n",
    "7. What are the advantages of using generators over regular functions?\n",
    "ans) Memory efficiency: Generators are more memory efficient because they produce values one at a time and do not store the entire sequence in memory.\n",
    "Lazy evaluation: Values are computed as needed, which can be beneficial for large datasets.\n",
    "Improved performance: For large collections, generators avoid the need to store all items in memory at once, which helps with performance, especially for large ranges or files.\n",
    "\n",
    "8.  What is a lambda function in Python and when is it typically used?\n",
    "ans) A lambda function is an anonymous function defined with the lambda keyword. It can have any number of arguments but only one expression. Lambda functions are typically used when a small function is required for a short period of time and are often used in places like map(), filter(), and sorted().\n",
    "\n",
    "Example:\n",
    "multiply = lambda x, y: x * y\n",
    "print(multiply(2, 3))  # Output: 6\n",
    "\n",
    "9. Explain the purpose and usage of the map() function in Python\n",
    "ans) The map() function applies a given function to all items in an iterable (such as a list or tuple) and returns an iterator that yields the results. The syntax is map(function, iterable).\n",
    "\n",
    "Example:\n",
    "def square(x):\n",
    "    return x * x\n",
    "\n",
    "numbers = [1, 2, 3, 4]\n",
    "squared_numbers = map(square, numbers)\n",
    "print(list(squared_numbers))  # Output: [1, 4, 9, 16]"
   ]
  },
  {
   "cell_type": "markdown",
   "id": "6b028fbb-e360-4b2d-8db2-2f15df44679b",
   "metadata": {},
   "source": [
    "PRACTICAL QUESTION"
   ]
  },
  {
   "cell_type": "code",
   "execution_count": 7,
   "id": "54cde7e8-31d1-4c07-964e-e312b27265c2",
   "metadata": {},
   "outputs": [
    {
     "name": "stdout",
     "output_type": "stream",
     "text": [
      "30\n"
     ]
    }
   ],
   "source": [
    "#1. Write a Python function that takes a list of numbers as input and returns the sum of all even numbers in\n",
    "#the list.\n",
    "\n",
    "def sum_of_even_numbers(numbers):\n",
    "    return sum(num for num in numbers if num % 2 == 0)\n",
    "\n",
    "\n",
    "numbers = [1, 2, 3, 4, 5, 6, 7, 8, 9, 10]\n",
    "result = sum_of_even_numbers(numbers)\n",
    "print(result)"
   ]
  },
  {
   "cell_type": "code",
   "execution_count": 14,
   "id": "daf59686-0c87-4413-9e2f-c26dd8435d48",
   "metadata": {},
   "outputs": [],
   "source": [
    "#2. Create a Python function that accepts a string and returns the reverse of that string\n",
    "\n",
    "def reverse_string(input_string):\n",
    "    return input_string[::-1]"
   ]
  },
  {
   "cell_type": "code",
   "execution_count": 16,
   "id": "b9ce4257-ad7d-4fdc-8628-164c852a12e0",
   "metadata": {},
   "outputs": [
    {
     "data": {
      "text/plain": [
       "'olleH'"
      ]
     },
     "execution_count": 16,
     "metadata": {},
     "output_type": "execute_result"
    }
   ],
   "source": [
    "reverse_string(\"Hello\")"
   ]
  },
  {
   "cell_type": "code",
   "execution_count": 18,
   "id": "cdd9f698-a24f-48a7-930d-287650628eff",
   "metadata": {},
   "outputs": [],
   "source": [
    "#3. Implement a Python function that takes a list of integers and returns a new list containing the squares of\n",
    "#each number.\n",
    "\n",
    "def square_numbers(numbers):\n",
    "    return [num ** 2 for num in numbers]\n"
   ]
  },
  {
   "cell_type": "code",
   "execution_count": 22,
   "id": "07d375e5-2cf7-4f7e-8b91-f3f709f0cfe7",
   "metadata": {},
   "outputs": [
    {
     "name": "stdout",
     "output_type": "stream",
     "text": [
      "[1, 4, 9, 16, 25]\n"
     ]
    }
   ],
   "source": [
    "numbers = [1, 2, 3, 4, 5]\n",
    "squared_numbers = square_numbers(numbers)\n",
    "print(squared_numbers)"
   ]
  },
  {
   "cell_type": "code",
   "execution_count": 24,
   "id": "99a915f9-c15f-4a26-8677-efb7522bab50",
   "metadata": {},
   "outputs": [],
   "source": [
    "#4. Write a Python function that checks if a given number is prime or not from 1to 200.\n",
    "\n",
    "def is_prime(number):\n",
    "    if number < 2:\n",
    "        return False\n",
    "    for i in range(2, int(number ** 0.5) + 1):\n",
    "        if number % i == 0:\n",
    "            return False\n",
    "    return True"
   ]
  },
  {
   "cell_type": "code",
   "execution_count": 26,
   "id": "aedb9f6c-7c63-4f5d-9340-93b4ae8e8875",
   "metadata": {},
   "outputs": [
    {
     "name": "stdout",
     "output_type": "stream",
     "text": [
      "2 is prime\n",
      "3 is prime\n",
      "5 is prime\n",
      "7 is prime\n",
      "11 is prime\n",
      "13 is prime\n",
      "17 is prime\n",
      "19 is prime\n",
      "23 is prime\n",
      "29 is prime\n",
      "31 is prime\n",
      "37 is prime\n",
      "41 is prime\n",
      "43 is prime\n",
      "47 is prime\n",
      "53 is prime\n",
      "59 is prime\n",
      "61 is prime\n",
      "67 is prime\n",
      "71 is prime\n",
      "73 is prime\n",
      "79 is prime\n",
      "83 is prime\n",
      "89 is prime\n",
      "97 is prime\n",
      "101 is prime\n",
      "103 is prime\n",
      "107 is prime\n",
      "109 is prime\n",
      "113 is prime\n",
      "127 is prime\n",
      "131 is prime\n",
      "137 is prime\n",
      "139 is prime\n",
      "149 is prime\n",
      "151 is prime\n",
      "157 is prime\n",
      "163 is prime\n",
      "167 is prime\n",
      "173 is prime\n",
      "179 is prime\n",
      "181 is prime\n",
      "191 is prime\n",
      "193 is prime\n",
      "197 is prime\n",
      "199 is prime\n"
     ]
    }
   ],
   "source": [
    "for num in range(1, 201):\n",
    "    if is_prime(num):\n",
    "        print(num, \"is prime\")"
   ]
  },
  {
   "cell_type": "code",
   "execution_count": 28,
   "id": "38c877ce-4778-4e73-96fe-a4ed334567df",
   "metadata": {},
   "outputs": [],
   "source": [
    "#5 Create an iterator class in Python that generates the Fibonacci sequence up to a specified number of\n",
    "\n",
    "class FibonacciIterator:\n",
    "    def __init__(self, max_value):\n",
    "        self.max_value = max_value\n",
    "        self.a, self.b = 0, 1  # Initializing the first two numbers of the Fibonacci sequence\n",
    "\n",
    "    def __iter__(self):\n",
    "        return self\n",
    "\n",
    "    def __next__(self):\n",
    "        if self.a > self.max_value:\n",
    "            raise StopIteration  # Stop the iteration if the number exceeds the max_value\n",
    "        current = self.a\n",
    "        self.a, self.b = self.b, self.a + self.b  # Update the Fibonacci numbers\n",
    "        return current"
   ]
  },
  {
   "cell_type": "code",
   "execution_count": 30,
   "id": "ff94085a-a7f3-4cdc-8293-5c95f52e9486",
   "metadata": {},
   "outputs": [
    {
     "name": "stdout",
     "output_type": "stream",
     "text": [
      "0\n",
      "1\n",
      "1\n",
      "2\n",
      "3\n",
      "5\n",
      "8\n",
      "13\n",
      "21\n",
      "34\n",
      "55\n",
      "89\n"
     ]
    }
   ],
   "source": [
    "max_value = 100  # Fibonacci sequence up to 100\n",
    "fib_iter = FibonacciIterator(max_value)\n",
    "\n",
    "for num in fib_iter:\n",
    "    print(num)"
   ]
  },
  {
   "cell_type": "code",
   "execution_count": 32,
   "id": "d08c3d7b-eb3e-4951-8f66-c54d4ef38b45",
   "metadata": {},
   "outputs": [],
   "source": [
    "#6 Write a generator function in Python that yields the powers of 2 up to a given exponent.\n",
    "def powers_of_two(exponent):\n",
    "    for i in range(exponent + 1):\n",
    "        yield 2 ** i"
   ]
  },
  {
   "cell_type": "code",
   "execution_count": 34,
   "id": "b3df81c5-674b-44c3-a7c0-b5d8ad6d869c",
   "metadata": {},
   "outputs": [
    {
     "name": "stdout",
     "output_type": "stream",
     "text": [
      "1\n",
      "2\n",
      "4\n",
      "8\n",
      "16\n",
      "32\n"
     ]
    }
   ],
   "source": [
    "exponent = 5\n",
    "for power in powers_of_two(exponent):\n",
    "    print(power)"
   ]
  },
  {
   "cell_type": "code",
   "execution_count": 36,
   "id": "16f0f538-363b-4e34-8a97-2ef48b2da7c5",
   "metadata": {},
   "outputs": [],
   "source": [
    "#7. Implement generator function that reads a file line by line and yields each line as a string\n",
    "\n",
    "def read_file_lines(file_path):\n",
    "    with open(file_path, 'r') as file:\n",
    "        for line in file:\n",
    "            yield line.strip()"
   ]
  },
  {
   "cell_type": "code",
   "execution_count": 8,
   "id": "53ea3275-082e-4182-9763-64e7063659d0",
   "metadata": {
    "scrolled": true
   },
   "outputs": [
    {
     "name": "stdout",
     "output_type": "stream",
     "text": [
      "This is a secret message that needs to be encrypted.\n",
      "Second line of the text file.\n"
     ]
    }
   ],
   "source": [
    "def read_file_lines(file_path):\n",
    "    with open(file_path, 'r') as file:\n",
    "        for line in file:\n",
    "            yield line.strip()  # Strips newlines at the end of each line\n",
    "\n",
    "# Example usage:\n",
    "file_path = 'sample_text.txt'  \n",
    "for line in read_file_lines(file_path):\n",
    "    print(line)"
   ]
  },
  {
   "cell_type": "code",
   "execution_count": 16,
   "id": "d9194adc-c93b-4949-8448-a5f35e75a7b9",
   "metadata": {},
   "outputs": [
    {
     "name": "stdout",
     "output_type": "stream",
     "text": [
      "[(2, 1), (3, 2), (1, 5), (4, 8)]\n"
     ]
    }
   ],
   "source": [
    "#8 Use a lambda function in Python to sort a list of tuples based on the second element of each tuple.\n",
    "tuples_list = [(1, 5), (3, 2), (4, 8), (2, 1)]\n",
    "\n",
    "# Sort the list based on the second element of each tuple using a lambda function\n",
    "sorted_list = sorted(tuples_list, key=lambda x: x[1])\n",
    "\n",
    "# Print the sorted list\n",
    "print(sorted_list)"
   ]
  },
  {
   "cell_type": "code",
   "execution_count": 18,
   "id": "aec10893-00f3-4147-b674-e9de26b2b47f",
   "metadata": {},
   "outputs": [
    {
     "name": "stdout",
     "output_type": "stream",
     "text": [
      "[32.0, 68.0, 98.6, 212.0, 14.0, 86.0]\n"
     ]
    }
   ],
   "source": [
    "#9. Write a Python program that uses map() to convert a list of temperatures from Celsius to Fahrenheit.\n",
    "\n",
    "# List of temperatures in Celsius\n",
    "celsius_temps = [0, 20, 37, 100, -10, 30]\n",
    "\n",
    "# Function to convert Celsius to Fahrenheit\n",
    "def celsius_to_fahrenheit(celsius):\n",
    "    return (celsius * 9/5) + 32\n",
    "\n",
    "# Using map() to apply the function to each element in the list\n",
    "fahrenheit_temps = list(map(celsius_to_fahrenheit, celsius_temps))\n",
    "\n",
    "# Output the result\n",
    "print(fahrenheit_temps)\n"
   ]
  },
  {
   "cell_type": "code",
   "execution_count": 20,
   "id": "0f3179d6-39fd-40b1-8093-64a87741eeaf",
   "metadata": {},
   "outputs": [
    {
     "name": "stdout",
     "output_type": "stream",
     "text": [
      "Hll Wrld!\n"
     ]
    }
   ],
   "source": [
    "#10 # Function to filter out vowels\n",
    "def remove_vowels(char):\n",
    "    return char.lower() not in 'aeiou'\n",
    "\n",
    "# Input string\n",
    "input_string = \"Hello World!\"\n",
    "\n",
    "# Using filter() to remove vowels\n",
    "filtered_string = ''.join(filter(remove_vowels, input_string))\n",
    "\n",
    "\n",
    "print(filtered_string)\n"
   ]
  },
  {
   "cell_type": "code",
   "execution_count": 24,
   "id": "c54280f5-cf7b-47ed-998d-aab1b9db539b",
   "metadata": {},
   "outputs": [],
   "source": [
    "#11\n",
    "\n",
    "orders = [\n",
    "    [34587, \"Learning Python, Mark Lutz\", 4, 40.95],\n",
    "    [98762, \"Programming Python, Mark Lutz\", 5, 56.80],\n",
    "    [77226, \"Head First Python, Paul Barry\", 3, 32.95],\n",
    "    [88112, \"Einführung in Python3, Bernd Klein\", 3, 24.99]\n",
    "]\n"
   ]
  },
  {
   "cell_type": "code",
   "execution_count": 26,
   "id": "c3efe88a-af0c-41b0-8122-f4c2db6dd6bb",
   "metadata": {},
   "outputs": [
    {
     "name": "stdout",
     "output_type": "stream",
     "text": [
      "[(34587, 163.8), (98762, 284.0), (77226, 108.85000000000001), (88112, 84.97)]\n"
     ]
    }
   ],
   "source": [
    "# List of orders: [Order Number, Book Title and Author, Quantity, Price per Item]\n",
    "orders = [\n",
    "    [34587, \"Learning Python, Mark Lutz\", 4, 40.95],\n",
    "    [98762, \"Programming Python, Mark Lutz\", 5, 56.80],\n",
    "    [77226, \"Head First Python, Paul Barry\", 3, 32.95],\n",
    "    [88112, \"Einführung in Python3, Bernd Klein\", 3, 24.99]\n",
    "]\n",
    "\n",
    "# Using map() and lambda to calculate the product and adjust it if necessary\n",
    "result = list(map(lambda order: (\n",
    "    order[0],  # Order number\n",
    "    (order[2] * order[3] + 10) if (order[2] * order[3]) < 100 else order[2] * order[3]  # Price * Quantity with adjustment\n",
    "), orders))\n",
    "\n",
    "\n",
    "print(result)\n"
   ]
  },
  {
   "cell_type": "code",
   "execution_count": null,
   "id": "532e1c42-cb8b-4b63-a6a1-3d7268e12c88",
   "metadata": {},
   "outputs": [],
   "source": []
  }
 ],
 "metadata": {
  "kernelspec": {
   "display_name": "Python 3 (ipykernel)",
   "language": "python",
   "name": "python3"
  },
  "language_info": {
   "codemirror_mode": {
    "name": "ipython",
    "version": 3
   },
   "file_extension": ".py",
   "mimetype": "text/x-python",
   "name": "python",
   "nbconvert_exporter": "python",
   "pygments_lexer": "ipython3",
   "version": "3.12.7"
  }
 },
 "nbformat": 4,
 "nbformat_minor": 5
}
